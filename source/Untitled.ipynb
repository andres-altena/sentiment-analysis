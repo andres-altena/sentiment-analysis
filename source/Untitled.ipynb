{
 "cells": [
  {
   "cell_type": "code",
   "execution_count": null,
   "id": "matched-mandate",
   "metadata": {},
   "outputs": [],
   "source": [
    "from keras.preprocessing.text import Tokenizer\n",
    "#We want Bag_of_words to receive a list of texts, and return this as seq\n",
    "\n",
    "class Bag_of_words():\n",
    "    def __init__(self):\n",
    "        tokenizer = Tokenizer()\n",
    "        \n",
    "    def create_BoW(self, training_set):\n",
    "        tokenizer.fit_on_texts(training_set)\n",
    "        return None\n",
    "    \n",
    "    def text2seq(self, )\n",
    "    \n",
    "    "
   ]
  }
 ],
 "metadata": {
  "kernelspec": {
   "display_name": "Python 3",
   "language": "python",
   "name": "python3"
  },
  "language_info": {
   "codemirror_mode": {
    "name": "ipython",
    "version": 3
   },
   "file_extension": ".py",
   "mimetype": "text/x-python",
   "name": "python",
   "nbconvert_exporter": "python",
   "pygments_lexer": "ipython3",
   "version": "3.7.9"
  }
 },
 "nbformat": 4,
 "nbformat_minor": 5
}
