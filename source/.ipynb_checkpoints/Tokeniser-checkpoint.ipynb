{
 "cells": [
  {
   "cell_type": "code",
   "execution_count": 1,
   "id": "jewish-bishop",
   "metadata": {},
   "outputs": [],
   "source": [
    "import re\n",
    "from nltk.corpus import stopwords\n",
    "from nltk.stem.wordnet import WordNetLemmatizer\n",
    "from nltk.stem.porter import PorterStemmer\n",
    "\n",
    "\n",
    "class TextTokeniser():\n",
    "    def __init__(self):\n",
    "        self._en_stop = set(stopwords.words('english'))\n",
    "        self._useless_words = []\n",
    "\n",
    "    def tokenise(self, text):\n",
    "        text = text.lower()\n",
    "        text = re.sub(r'[^a-z\\s_]', ' ', text)\n",
    "        text = re.sub(r'\\s+', ' ', text).strip()\n",
    "        return text.split()\n",
    "\n",
    "    def get_lemma(self, term):\n",
    "        return WordNetLemmatizer().lemmatize(term)\n",
    "\n",
    "    def get_stem(self, term):\n",
    "        return PorterStemmer().stem(term)\n",
    "\n",
    "    def clean_and_tokenise_text(self, text):\n",
    "        tokens = self.tokenise(text)\n",
    "        tokens = [token for token in tokens if token not in self._en_stop]\n",
    "        tokens = [self.get_stem(token) for token in tokens]\n",
    "        tokens = [token for token in tokens if token not in self._useless_words]\n",
    "        return tokens"
   ]
  }
 ],
 "metadata": {
  "kernelspec": {
   "display_name": "Python 3",
   "language": "python",
   "name": "python3"
  },
  "language_info": {
   "codemirror_mode": {
    "name": "ipython",
    "version": 3
   },
   "file_extension": ".py",
   "mimetype": "text/x-python",
   "name": "python",
   "nbconvert_exporter": "python",
   "pygments_lexer": "ipython3",
   "version": "3.7.9"
  }
 },
 "nbformat": 4,
 "nbformat_minor": 5
}
