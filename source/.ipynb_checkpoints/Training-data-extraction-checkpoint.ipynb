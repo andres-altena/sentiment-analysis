{
 "cells": [
  {
   "cell_type": "code",
   "execution_count": 34,
   "id": "every-climb",
   "metadata": {},
   "outputs": [],
   "source": [
    "import pandas as pd\n",
    "from pathlib import *\n",
    "#import chardet"
   ]
  },
  {
   "cell_type": "code",
   "execution_count": 35,
   "id": "liable-stamp",
   "metadata": {},
   "outputs": [],
   "source": [
    "#Load the training data\n",
    "path_training = Path(\"..\") / \"data\" / \"training\"\n",
    "\n",
    "#df_reddit only has two cols, message and rating (-1,0,1)\n",
    "path_reddit = path_training / \"Reddit_Data.csv\"\n",
    "df_reddit = pd.read_csv(path_to_reddit, encoding=\"utf-8\")\n",
    "df_reddit.columns = [\"Text\",\"Rating\"]\n",
    "\n",
    "#df_twitter as above\n",
    "path_twitter = path_training / \"Twitter_Data.csv\"\n",
    "df_twitter = pd.read_csv(path_twitter, encoding=\"utf-8\")\n",
    "df_twitter.columns = [\"Text\",\"Rating\"]\n",
    "\n",
    "### THESE LINES BELOW PROVIDE FURTHER TRAINING EXAMPLES BUT MIGHT NOT BE AS WELL SUITED\n",
    "### SO THESE ARE LEFT OUT FOR NOW\n",
    "\n",
    "#df_twitter2 has several rows (has to be trimmed down), and rating (0,4)\n",
    "#path_to_twitter2 = path_to_training / \"training_1600000_processed_noemoticon.csv\"\n",
    "#df_twitter2 = pd.read_csv(path_to_twitter2, encoding=\"Windows-1252\", header = None)\n",
    "\n",
    "#df_ratedwords has 2 columns, only words, rated -5 to 5 (but weird scale: 1 is still quite +ve)\n",
    "#path_ratedwords = path_to_training / \"rated_words.txt\"\n",
    "#df_ratedwords = pd.read_csv(path_ratedwords, sep=\"\\t\", header = None)"
   ]
  },
  {
   "cell_type": "code",
   "execution_count": 36,
   "id": "cleared-pension",
   "metadata": {},
   "outputs": [],
   "source": [
    "df_combined = df_reddit.append(df_twitter)\n",
    "path_output = path_training / \"training_combined.csv\"\n",
    "df_combined.to_csv(path_output, index = False)"
   ]
  },
  {
   "cell_type": "code",
   "execution_count": null,
   "id": "golden-saturn",
   "metadata": {},
   "outputs": [],
   "source": []
  }
 ],
 "metadata": {
  "kernelspec": {
   "display_name": "Python 3",
   "language": "python",
   "name": "python3"
  },
  "language_info": {
   "codemirror_mode": {
    "name": "ipython",
    "version": 3
   },
   "file_extension": ".py",
   "mimetype": "text/x-python",
   "name": "python",
   "nbconvert_exporter": "python",
   "pygments_lexer": "ipython3",
   "version": "3.7.9"
  }
 },
 "nbformat": 4,
 "nbformat_minor": 5
}
