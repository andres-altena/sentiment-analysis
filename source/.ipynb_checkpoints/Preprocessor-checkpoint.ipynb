{
 "cells": [
  {
   "cell_type": "code",
   "execution_count": 1,
   "id": "intense-exclusion",
   "metadata": {},
   "outputs": [],
   "source": [
    "from Tokeniser import TextTokeniser\n",
    "from Decoder import Decoder\n",
    "import pandas as pd\n",
    "\n",
    "class Preprocessor():\n",
    "    #Preprocessor object will deal with \n",
    "    #1st Preprocessing data\n",
    "    #2nd Tokenising data\n",
    "    #3rd Preprocessing tokenised data\n",
    "    \n",
    "    def __init__(self):\n",
    "        self.tokeniser = TextTokeniser()\n",
    "        self.decoder = Decoder()\n",
    "    \n",
    "    def pre_token_preprocessing(self, text):\n",
    "        text = str(text)\n",
    "        text = self.decoder.decode(text)\n",
    "        return text\n",
    "    \n",
    "    def post_token_preprocessing(self, text):\n",
    "        return text\n",
    "    \n",
    "    def preprocess_text(self, text):\n",
    "        #initial preprocessing\n",
    "        text = self.pre_token_preprocessing(text)\n",
    "        #Tokenise the text\n",
    "        text = self.tokeniser.clean_and_tokenise_text(text)\n",
    "        #final preprocessing\n",
    "        text = self.post_token_preprocessing(text)\n",
    "        \n",
    "        return text"
   ]
  }
 ],
 "metadata": {
  "kernelspec": {
   "display_name": "Python 3",
   "language": "python",
   "name": "python3"
  },
  "language_info": {
   "codemirror_mode": {
    "name": "ipython",
    "version": 3
   },
   "file_extension": ".py",
   "mimetype": "text/x-python",
   "name": "python",
   "nbconvert_exporter": "python",
   "pygments_lexer": "ipython3",
   "version": "3.7.9"
  }
 },
 "nbformat": 4,
 "nbformat_minor": 5
}
