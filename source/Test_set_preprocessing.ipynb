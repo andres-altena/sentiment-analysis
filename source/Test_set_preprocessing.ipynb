{
 "cells": [
  {
   "cell_type": "code",
   "execution_count": 3,
   "metadata": {},
   "outputs": [],
   "source": [
    "#Import tokeniser\n",
    "from Tokeniser import TextTokeniser\n",
    "\n",
    "import pandas as pd\n",
    "from pathlib import *"
   ]
  },
  {
   "cell_type": "code",
   "execution_count": 4,
   "metadata": {},
   "outputs": [],
   "source": [
    "#Load the dataframe\n",
    "path_to_df = Path(\"..\") / \"data\" / \"processed\" / \"initial_df.csv\"\n",
    "messages_df = pd.read_csv(path_to_df)"
   ]
  },
  {
   "cell_type": "markdown",
   "metadata": {},
   "source": [
    "# Step 1: We want to analyse my mood, filter only messages sent by me"
   ]
  },
  {
   "cell_type": "code",
   "execution_count": 5,
   "metadata": {
    "scrolled": true
   },
   "outputs": [],
   "source": [
    "andres_df = messages_df[messages_df[\"Sender\"] == \"Andres Altena\"].reset_index(drop = True)\n",
    "andres_df.dropna(inplace = True)"
   ]
  },
  {
   "cell_type": "markdown",
   "metadata": {},
   "source": [
    "# Step 2: Filter only Generic messages - that is no sharing location, urls etc"
   ]
  },
  {
   "cell_type": "code",
   "execution_count": 6,
   "metadata": {},
   "outputs": [],
   "source": [
    "andres_df = andres_df[andres_df[\"type\"] == \"Generic\"].reset_index(drop = True)"
   ]
  },
  {
   "cell_type": "markdown",
   "metadata": {},
   "source": [
    "# Step 3: Further Preprocessing before tokeniser"
   ]
  },
  {
   "cell_type": "markdown",
   "metadata": {},
   "source": [
    "# Step 4: Apply the tokeniser"
   ]
  },
  {
   "cell_type": "code",
   "execution_count": 12,
   "metadata": {},
   "outputs": [],
   "source": [
    "#Note this tokeniser is imported fromTokeniser.py\n",
    "tokeniser = TextTokeniser()\n",
    "andres_df[\"Preprocessed\"] = andres_df[\"Message\"].apply(lambda x: tokeniser.clean_and_tokenise_text(x))"
   ]
  },
  {
   "cell_type": "code",
   "execution_count": 14,
   "metadata": {},
   "outputs": [],
   "source": [
    "#Save the df\n",
    "path_to_untagged = Path(\"..\") / \"data\" / \"processed\" / \"untagged_data2.xlsx\"\n",
    "andres_df.to_excel(path_to_untagged)"
   ]
  },
  {
   "cell_type": "code",
   "execution_count": null,
   "metadata": {},
   "outputs": [],
   "source": []
  },
  {
   "cell_type": "code",
   "execution_count": null,
   "metadata": {},
   "outputs": [],
   "source": []
  },
  {
   "cell_type": "code",
   "execution_count": null,
   "metadata": {},
   "outputs": [],
   "source": []
  }
 ],
 "metadata": {
  "kernelspec": {
   "display_name": "Python 3",
   "language": "python",
   "name": "python3"
  },
  "language_info": {
   "codemirror_mode": {
    "name": "ipython",
    "version": 3
   },
   "file_extension": ".py",
   "mimetype": "text/x-python",
   "name": "python",
   "nbconvert_exporter": "python",
   "pygments_lexer": "ipython3",
   "version": "3.7.9"
  }
 },
 "nbformat": 4,
 "nbformat_minor": 2
}
