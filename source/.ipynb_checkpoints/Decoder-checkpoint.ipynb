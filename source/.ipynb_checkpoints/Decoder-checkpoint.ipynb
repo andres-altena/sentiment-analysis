{
 "cells": [
  {
   "cell_type": "code",
   "execution_count": 35,
   "id": "ongoing-remove",
   "metadata": {},
   "outputs": [],
   "source": [
    "class Decoder():\n",
    "    #Sorts the encoding problems\n",
    "    def solve_appostrophe(self, text):\n",
    "        #Facebook has two different types of apostrophe, UTF-8 cannot deal with one of them\n",
    "        text = text.replace(\"â\\x80\\x99\",\"'\")\n",
    "        return text\n",
    "\n",
    "    def decode(self, text):\n",
    "        text = self.solve_appostrophe(text)\n",
    "        return text"
   ]
  }
 ],
 "metadata": {
  "kernelspec": {
   "display_name": "Python 3",
   "language": "python",
   "name": "python3"
  },
  "language_info": {
   "codemirror_mode": {
    "name": "ipython",
    "version": 3
   },
   "file_extension": ".py",
   "mimetype": "text/x-python",
   "name": "python",
   "nbconvert_exporter": "python",
   "pygments_lexer": "ipython3",
   "version": "3.7.9"
  }
 },
 "nbformat": 4,
 "nbformat_minor": 5
}
