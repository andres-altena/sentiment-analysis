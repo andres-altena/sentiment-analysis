{
 "cells": [
  {
   "cell_type": "markdown",
   "metadata": {},
   "source": [
    "# This has been used to export data to be tagged, will not be used in the final version of the code"
   ]
  },
  {
   "cell_type": "code",
   "execution_count": 3,
   "metadata": {},
   "outputs": [],
   "source": [
    "#Import tokeniser\n",
    "from Tokeniser import TextTokeniser\n",
    "\n",
    "import pandas as pd\n",
    "from pathlib import *"
   ]
  },
  {
   "cell_type": "code",
   "execution_count": 4,
   "metadata": {},
   "outputs": [],
   "source": [
    "#Load the dataframe\n",
    "path_to_df = Path(\"..\") / \"data\" / \"processed\" / \"initial_df.csv\"\n",
    "messages_df = pd.read_csv(path_to_df)"
   ]
  },
  {
   "cell_type": "code",
   "execution_count": 12,
   "metadata": {},
   "outputs": [],
   "source": [
    "#Note this tokeniser is imported fromTokeniser.py\n",
    "tokeniser = TextTokeniser()\n",
    "andres_df[\"Preprocessed\"] = andres_df[\"Message\"].apply(lambda x: tokeniser.clean_and_tokenise_text(x))"
   ]
  },
  {
   "cell_type": "code",
   "execution_count": 14,
   "metadata": {},
   "outputs": [],
   "source": [
    "#Save the df\n",
    "path_to_untagged = Path(\"..\") / \"data\" / \"processed\" / \"untagged_data.xlsx\"\n",
    "andres_df.to_excel(path_to_untagged)"
   ]
  },
  {
   "cell_type": "code",
   "execution_count": null,
   "metadata": {},
   "outputs": [],
   "source": []
  },
  {
   "cell_type": "code",
   "execution_count": null,
   "metadata": {},
   "outputs": [],
   "source": []
  },
  {
   "cell_type": "code",
   "execution_count": null,
   "metadata": {},
   "outputs": [],
   "source": []
  }
 ],
 "metadata": {
  "kernelspec": {
   "display_name": "Python 3",
   "language": "python",
   "name": "python3"
  },
  "language_info": {
   "codemirror_mode": {
    "name": "ipython",
    "version": 3
   },
   "file_extension": ".py",
   "mimetype": "text/x-python",
   "name": "python",
   "nbconvert_exporter": "python",
   "pygments_lexer": "ipython3",
   "version": "3.7.9"
  }
 },
 "nbformat": 4,
 "nbformat_minor": 2
}
