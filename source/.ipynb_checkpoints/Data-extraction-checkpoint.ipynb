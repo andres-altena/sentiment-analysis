{
 "cells": [
  {
   "cell_type": "code",
   "execution_count": 11,
   "metadata": {},
   "outputs": [],
   "source": [
    "import pandas as pd\n",
    "from pathlib import *\n",
    "import json\n",
    "import os\n",
    "from os.path import isfile, join\n",
    "from datetime import datetime\n",
    "import chardet\n"
   ]
  },
  {
   "cell_type": "code",
   "execution_count": 17,
   "metadata": {},
   "outputs": [],
   "source": [
    "def json_to_df(data):\n",
    "    \n",
    "# INPUTS: data - this is the dictionary which is obtained from the json\n",
    "#\n",
    "# OUTPUTS: df - a pandas dataframe with the information loaded in, the columns renamed and reordered. \n",
    "#               WE ARE GETTING RID OF \"share\",\"photos\",\"ip\" COLUMNS. THESE ONLY EXIST IN SOME CHATS \n",
    "#               - not interested for analysis. We also convert timestamp into datetime\n",
    "\n",
    "    #Input data into df\n",
    "    df = pd.DataFrame.from_dict(data[\"messages\"])\n",
    "    df[\"Title\"] = data[\"title\"]\n",
    "    df[\"IsGroup\"] = data[\"thread_type\"]\n",
    "    df[\"StillPart\"] = data[\"is_still_participant\"]\n",
    "\n",
    "    #The participants are shown as a list, we want the list to be in a single dataframe cell so we convert into a string:\n",
    "    participants = list()\n",
    "    for participant in data[\"participants\"]:\n",
    "        participants.append(participant[\"name\"])\n",
    "    num_participants = len(participants)\n",
    "    participants = \",\".join(participants)\n",
    "\n",
    "    df[\"Participants\"] = participants\n",
    "    df[\"NumParticipants\"] = num_participants\n",
    "    \n",
    "    #Convert timestamp_ms into datetime\n",
    "    df[\"DateTime\"] = [datetime.fromtimestamp(timestamp/1000) for timestamp in df[\"timestamp_ms\"]]\n",
    "    \n",
    "    #Rename and reorder columns    \n",
    "    df.rename(columns={\"content\": \"Message\", \"sender_name\": \"Sender\"}, inplace = True)\n",
    "    columns = [\"Title\",\"IsGroup\",\"StillPart\",\"NumParticipants\",\"Participants\",\"Sender\",\"Message\", \\\n",
    "               \"DateTime\",\"type\"]\n",
    "    df = df[columns]\n",
    "\n",
    "    \n",
    "    return df"
   ]
  },
  {
   "cell_type": "code",
   "execution_count": 18,
   "metadata": {},
   "outputs": [],
   "source": [
    "def sort_decoding_problems(df):\n",
    "    #Sorts the encoding problems\n",
    "    \n",
    "    #Facebook has two different types of apostrophe, UTF-8 cannot deal with one of them\n",
    "    df.replace({\"â\\x80\\x99\" : \"'\"}, regex = True, inplace = True)\n",
    "    \n",
    "    return df"
   ]
  },
  {
   "cell_type": "code",
   "execution_count": 21,
   "metadata": {},
   "outputs": [],
   "source": [
    "def load_data():\n",
    "    #Deal with paths\n",
    "    path_to_inbox = Path(\"..\") / \"data\" / \"inbox\"\n",
    "    chats = os.listdir(path_to_inbox)\n",
    "\n",
    "    messages_df = pd.DataFrame()\n",
    "\n",
    "    #Load the jsons \n",
    "    for chat in chats:\n",
    "        #Each chat is stored in a different directory\n",
    "        path_to_person = path_to_inbox / chat\n",
    "        #Message files are stored as jsons - some chats have multiple jsons - find all jsons\n",
    "        message_files = [pos_json for pos_json in os.listdir(path_to_person) if pos_json.endswith('.json')]\n",
    "        #Load each json and append them to a singular dataframe for each person\n",
    "        person_df = pd.DataFrame()\n",
    "\n",
    "        for message_file in message_files:\n",
    "            path_to_json = path_to_person / message_file\n",
    "            with open(path_to_json, encoding='ascii') as json_data:\n",
    "                loaded_json_data = json.load(json_data)\n",
    "                #Looking at the jsons we have several categories in the dict - we have:\n",
    "                #'participants'\n",
    "                #'messages'\n",
    "                #'title',\n",
    "                #'is_still_participant' = True or False\n",
    "                #thread_type = RegularGroup or Regular\n",
    "                #thread_path\n",
    "\n",
    "            #Input the json into a dataframe:\n",
    "            single_json_df = json_to_df(loaded_json_data)\n",
    "            #Append the single_dfjson_df to the person/groupchat's dataframe\n",
    "            person_df = person_df.append(single_json_df)\n",
    "\n",
    "        #Now append the person/groupchat's df to the overall df\n",
    "        messages_df = messages_df.append(person_df)\n",
    "        messages_df.reset_index(drop = True, inplace = True)\n",
    "        \n",
    "    #Sort out the decoding errors found in messages_df\n",
    "    messages_df = sort_decoding_problems(messages_df)\n",
    "\n",
    "    return messages_df"
   ]
  },
  {
   "cell_type": "code",
   "execution_count": 22,
   "metadata": {},
   "outputs": [],
   "source": [
    "messages_df = load_data()"
   ]
  },
  {
   "cell_type": "code",
   "execution_count": 23,
   "metadata": {},
   "outputs": [
    {
     "data": {
      "text/plain": [
       "\"just so we sort of know what we're saying\""
      ]
     },
     "execution_count": 23,
     "metadata": {},
     "output_type": "execute_result"
    }
   ],
   "source": [
    "messages_df[\"Message\"][16]"
   ]
  },
  {
   "cell_type": "code",
   "execution_count": null,
   "metadata": {},
   "outputs": [],
   "source": [
    "with open(r\"C:\\Users\\Andres\\Desktop\\Coding\\Sentiment-Analysis\\Data\\inbox\\jamesroberts_tfsdjpzmoa\\message_1.json\", 'rb') as rawdata:\n",
    "    result = chardet.detect(rawdata.read(1000))\n",
    "\n",
    "# check what the character encoding might be\n",
    "print(result)"
   ]
  },
  {
   "cell_type": "code",
   "execution_count": null,
   "metadata": {},
   "outputs": [],
   "source": []
  },
  {
   "cell_type": "code",
   "execution_count": null,
   "metadata": {},
   "outputs": [],
   "source": []
  },
  {
   "cell_type": "code",
   "execution_count": null,
   "metadata": {},
   "outputs": [],
   "source": []
  },
  {
   "cell_type": "code",
   "execution_count": 8,
   "metadata": {},
   "outputs": [
    {
     "data": {
      "text/plain": [
       "\"just so we sort of know what we're saying\""
      ]
     },
     "execution_count": 8,
     "metadata": {},
     "output_type": "execute_result"
    }
   ],
   "source": [
    "messages_df.replace({\"â\\x80\\x99\" : \"'\"}, regex = True)"
   ]
  },
  {
   "cell_type": "code",
   "execution_count": null,
   "metadata": {},
   "outputs": [],
   "source": []
  },
  {
   "cell_type": "code",
   "execution_count": null,
   "metadata": {},
   "outputs": [],
   "source": []
  },
  {
   "cell_type": "code",
   "execution_count": null,
   "metadata": {},
   "outputs": [],
   "source": []
  },
  {
   "cell_type": "code",
   "execution_count": null,
   "metadata": {},
   "outputs": [],
   "source": []
  }
 ],
 "metadata": {
  "kernelspec": {
   "display_name": "Python 3",
   "language": "python",
   "name": "python3"
  },
  "language_info": {
   "codemirror_mode": {
    "name": "ipython",
    "version": 3
   },
   "file_extension": ".py",
   "mimetype": "text/x-python",
   "name": "python",
   "nbconvert_exporter": "python",
   "pygments_lexer": "ipython3",
   "version": "3.7.3"
  }
 },
 "nbformat": 4,
 "nbformat_minor": 2
}
